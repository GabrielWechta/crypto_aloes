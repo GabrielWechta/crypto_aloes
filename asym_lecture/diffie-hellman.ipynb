{
 "cells": [
  {
   "cell_type": "code",
   "execution_count": 1,
   "metadata": {},
   "outputs": [],
   "source": [
    "from group import Group\n",
    "from pprint import pprint\n",
    "from sympy import randprime\n"
   ]
  },
  {
   "cell_type": "markdown",
   "metadata": {},
   "source": [
    "![Whitfield Diffie and Martin Hellman](https://fsi9-prod.s3.us-west-1.amazonaws.com/s3fs-public/styles/895x498/public/martin_hellman_whitfield_diffie_1977_cropped_logo.jpg?h=344a8a58&itok=QzSFc_r8)"
   ]
  },
  {
   "cell_type": "markdown",
   "metadata": {},
   "source": [
    "**Martin Hellman** and **Whitfield Diffie**"
   ]
  },
  {
   "cell_type": "code",
   "execution_count": 2,
   "metadata": {},
   "outputs": [
    {
     "name": "stdout",
     "output_type": "stream",
     "text": [
      "Group with prime order=80556515213255407692513042988137711797 created.\n",
      "<class 'group.Group'>\n",
      "'Alice sends: A=GroupElement(43922843852415989593220687945565119408)'\n",
      "'Bob sends: B=GroupElement(61323909359841280236152328720521899802)'\n"
     ]
    }
   ],
   "source": [
    "Zp = Group(order=randprime(1, 2**128))\n",
    "print(Zp.__class__)\n",
    "g = Zp.get_generator()\n",
    "# Alice\n",
    "a = Zp.get_random_exponent()\n",
    "A = g ** a\n",
    "pprint(f\"Alice sends: {A=}\")\n",
    "# Bob\n",
    "b = Zp.get_random_exponent()\n",
    "B = g ** b\n",
    "pprint(f\"Bob sends: {B=}\")"
   ]
  },
  {
   "cell_type": "code",
   "execution_count": null,
   "metadata": {},
   "outputs": [],
   "source": [
    "K_A = B ** a\n",
    "K_B = A ** b\n"
   ]
  },
  {
   "cell_type": "code",
   "execution_count": null,
   "metadata": {},
   "outputs": [],
   "source": []
  }
 ],
 "metadata": {
  "kernelspec": {
   "display_name": "Python 3",
   "language": "python",
   "name": "python3"
  },
  "language_info": {
   "codemirror_mode": {
    "name": "ipython",
    "version": 3
   },
   "file_extension": ".py",
   "mimetype": "text/x-python",
   "name": "python",
   "nbconvert_exporter": "python",
   "pygments_lexer": "ipython3",
   "version": "3.10.12"
  }
 },
 "nbformat": 4,
 "nbformat_minor": 2
}
