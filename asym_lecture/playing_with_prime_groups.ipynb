{
 "cells": [
  {
   "cell_type": "code",
   "execution_count": 10,
   "metadata": {},
   "outputs": [],
   "source": [
    "from group import Group, GroupElement\n",
    "from plotter import create_scatter_plot, create_bar_plot, create_2_color_bar_plot\n",
    "from pprint import pprint"
   ]
  },
  {
   "cell_type": "code",
   "execution_count": 11,
   "metadata": {},
   "outputs": [],
   "source": [
    "def how_many_unique_elements(l):\n",
    "    return len(set(l))"
   ]
  },
  {
   "cell_type": "code",
   "execution_count": 12,
   "metadata": {},
   "outputs": [
    {
     "name": "stdout",
     "output_type": "stream",
     "text": [
      "Group with prime order=101 created.\n",
      "('Generated elements: [2, 4, 8, 16, 32, 64, 27, 54, 7, 14, 28, 56, 11, 22, 44, '\n",
      " '88, 75, 49, 98, 95, 89, 77, 53, 5, 10, 20, 40, 80, 59, 17, 34, 68, 35, 70, '\n",
      " '39, 78, 55, 9, 18, 36, 72, 43, 86, 71, 41, 82, 63, 25, 50, 100, 99, 97, 93, '\n",
      " '85, 69, 37, 74, 47, 94, 87, 73, 45, 90, 79, 57, 13, 26, 52, 3, 6, 12, 24, '\n",
      " '48, 96, 91, 81, 61, 21, 42, 84, 67, 33, 66, 31, 62, 23, 46, 92, 83, 65, 29, '\n",
      " '58, 15, 30, 60, 19, 38, 76, 51, 1]')\n",
      "'Elements count = 100'\n"
     ]
    },
    {
     "data": {
      "image/png": "[encoded data removed]",
      "text/plain": [
       "<Figure size 432x288 with 1 Axes>"
      ]
     },
     "metadata": {
      "needs_background": "light"
     },
     "output_type": "display_data"
    },
    {
     "name": "stdout",
     "output_type": "stream",
     "text": [
      "('Generated elements: [3, 9, 27, 81, 41, 22, 66, 97, 89, 65, 94, 80, 38, 13, '\n",
      " '39, 16, 48, 43, 28, 84, 50, 49, 46, 37, 10, 30, 90, 68, 2, 6, 18, 54, 61, '\n",
      " '82, 44, 31, 93, 77, 29, 87, 59, 76, 26, 78, 32, 96, 86, 56, 67, 100, 98, 92, '\n",
      " '74, 20, 60, 79, 35, 4, 12, 36, 7, 21, 63, 88, 62, 85, 53, 58, 73, 17, 51, '\n",
      " '52, 55, 64, 91, 71, 11, 33, 99, 95, 83, 47, 40, 19, 57, 70, 8, 24, 72, 14, '\n",
      " '42, 25, 75, 23, 69, 5, 15, 45, 34, 1]')\n",
      "'Elements count = 100'\n"
     ]
    },
    {
     "data": {
      "image/png": "[encoded data removed]",
      "text/plain": [
       "<Figure size 432x288 with 1 Axes>"
      ]
     },
     "metadata": {
      "needs_background": "light"
     },
     "output_type": "display_data"
    }
   ],
   "source": [
    "Zp = Group(101)\n",
    "a = GroupElement(group=Zp, value=2)\n",
    "generated_elements_a = a.generate_values()\n",
    "pprint(f\"Generated elements: {generated_elements_a}\")\n",
    "pprint(f\"Elements count = {how_many_unique_elements(generated_elements_a)}\")\n",
    "create_bar_plot(range(Zp.order - 1), generated_elements_a)"
   ]
  },
  {
   "cell_type": "code",
   "execution_count": 13,
   "metadata": {},
   "outputs": [
    {
     "name": "stdout",
     "output_type": "stream",
     "text": [
      "('Generated elements: [3, 9, 27, 81, 41, 22, 66, 97, 89, 65, 94, 80, 38, 13, '\n",
      " '39, 16, 48, 43, 28, 84, 50, 49, 46, 37, 10, 30, 90, 68, 2, 6, 18, 54, 61, '\n",
      " '82, 44, 31, 93, 77, 29, 87, 59, 76, 26, 78, 32, 96, 86, 56, 67, 100, 98, 92, '\n",
      " '74, 20, 60, 79, 35, 4, 12, 36, 7, 21, 63, 88, 62, 85, 53, 58, 73, 17, 51, '\n",
      " '52, 55, 64, 91, 71, 11, 33, 99, 95, 83, 47, 40, 19, 57, 70, 8, 24, 72, 14, '\n",
      " '42, 25, 75, 23, 69, 5, 15, 45, 34, 1]')\n",
      "'Elements count = 100'\n"
     ]
    },
    {
     "data": {
      "image/png": "[encoded data removed]",
      "text/plain": [
       "<Figure size 432x288 with 1 Axes>"
      ]
     },
     "metadata": {
      "needs_background": "light"
     },
     "output_type": "display_data"
    }
   ],
   "source": [
    "b = GroupElement(group=Zp, value=3)\n",
    "generated_elements_b = b.generate_values()\n",
    "pprint(f\"Generated elements: {generated_elements_b}\")\n",
    "pprint(f\"Elements count = {how_many_unique_elements(generated_elements_b)}\")\n",
    "create_2_color_bar_plot(range(Zp.order - 1), generated_elements_a, generated_elements_b)"
   ]
  }
 ],
 "metadata": {
  "kernelspec": {
   "display_name": "Python 3",
   "language": "python",
   "name": "python3"
  },
  "language_info": {
   "codemirror_mode": {
    "name": "ipython",
    "version": 3
   },
   "file_extension": ".py",
   "mimetype": "text/x-python",
   "name": "python",
   "nbconvert_exporter": "python",
   "pygments_lexer": "ipython3",
   "version": "3.10.12"
  }
 },
 "nbformat": 4,
 "nbformat_minor": 2
}
